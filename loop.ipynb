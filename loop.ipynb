{
 "cells": [
  {
   "cell_type": "markdown",
   "metadata": {},
   "source": [
    "# Loops:for,while and Nested\n"
   ]
  },
  {
   "cell_type": "code",
   "execution_count": 1,
   "metadata": {},
   "outputs": [
    {
     "name": "stdout",
     "output_type": "stream",
     "text": [
      "correct: 1\n",
      "correct: 2\n",
      "correct: 3\n",
      "correct: 4\n",
      "correct: 5\n",
      "good bye\n"
     ]
    }
   ],
   "source": [
    "#for loop\n",
    "Numbers=[1,2,3,4,5]\n",
    "for number in Numbers:\n",
    "    print(\"correct:\",number)\n",
    "print(\"good bye\")"
   ]
  },
  {
   "cell_type": "code",
   "execution_count": 2,
   "metadata": {},
   "outputs": [
    {
     "name": "stdout",
     "output_type": "stream",
     "text": [
      "fresh fruit: apple\n",
      "fresh fruit: mango\n",
      "fresh fruit: grapes\n",
      "have a nice day!\n"
     ]
    }
   ],
   "source": [
    "Fruits=['apple','mango','grapes']\n",
    "for fruit in Fruits:\n",
    "    print('fresh fruit:',fruit)\n",
    "print(\"have a nice day!\")"
   ]
  },
  {
   "cell_type": "code",
   "execution_count": 3,
   "metadata": {},
   "outputs": [
    {
     "name": "stdout",
     "output_type": "stream",
     "text": [
      "alphabate: a\n",
      "alphabate: b\n",
      "alphabate: c\n",
      "alphabate: d\n",
      "alphabate: e\n",
      "fabulous\n"
     ]
    }
   ],
   "source": [
    "L=['a','b','c','d','e']\n",
    "for i in L:\n",
    "    print('alphabate:',i)\n",
    "print('fabulous')"
   ]
  },
  {
   "cell_type": "code",
   "execution_count": 4,
   "metadata": {},
   "outputs": [
    {
     "name": "stdout",
     "output_type": "stream",
     "text": [
      "0\n",
      "1\n",
      "2\n",
      "3\n",
      "4\n",
      "5\n",
      "6\n",
      "7\n",
      "8\n"
     ]
    }
   ],
   "source": [
    "x=range(9)\n",
    "for i in x:\n",
    "    print(i)"
   ]
  },
  {
   "cell_type": "code",
   "execution_count": 5,
   "metadata": {},
   "outputs": [
    {
     "name": "stdout",
     "output_type": "stream",
     "text": [
      "0\n",
      "1\n",
      "2\n",
      "3\n",
      "4\n",
      "5\n",
      "6\n",
      "7\n",
      "8\n"
     ]
    }
   ],
   "source": [
    "for i in range(9):\n",
    "    print(i)"
   ]
  },
  {
   "cell_type": "code",
   "execution_count": 13,
   "metadata": {},
   "outputs": [
    {
     "name": "stdout",
     "output_type": "stream",
     "text": [
      "Number:6\n",
      "720\n"
     ]
    }
   ],
   "source": [
    "num=int(input('Number:'))\n",
    "factorial=1\n",
    "              \n",
    "if num <0:\n",
    "    print(\"must be positive\")\n",
    "elif num==0:\n",
    "    print('factorial=1')\n",
    "else:\n",
    "    for i in range(1,num+1):\n",
    "     factorial=factorial*i\n",
    "    \n",
    "print(factorial)\n",
    "              "
   ]
  },
  {
   "cell_type": "code",
   "execution_count": 14,
   "metadata": {},
   "outputs": [
    {
     "name": "stdout",
     "output_type": "stream",
     "text": [
      "Pythogorean number?30\n",
      "3 4 5\n",
      "5 12 13\n",
      "6 8 10\n",
      "7 24 25\n",
      "8 15 17\n",
      "9 12 15\n",
      "10 24 26\n",
      "12 16 20\n",
      "15 20 25\n",
      "18 24 30\n",
      "20 21 29\n",
      "21 28 35\n"
     ]
    }
   ],
   "source": [
    "from math import sqrt\n",
    "n=int(input('Pythogorean number?'))\n",
    "for a in range(1,n+1):\n",
    "    for b in range(a,n):\n",
    "        c_square = a**2+b**2\n",
    "        c = int(sqrt(c_square))\n",
    "        if ((c_square-c**2)== 0):\n",
    "          print(a,b,c)\n"
   ]
  },
  {
   "cell_type": "code",
   "execution_count": 10,
   "metadata": {},
   "outputs": [
    {
     "name": "stdout",
     "output_type": "stream",
     "text": [
      "yes or no:yes\n",
      "number of people travelling:3\n",
      "Name:bina\n",
      "Age:23\n",
      "Male or Female:female\n",
      "bina\n",
      "23\n",
      "female\n",
      "Name:ram\n",
      "Age:12\n",
      "Male or Female:male\n",
      "ram\n",
      "12\n",
      "male\n",
      "Name:bipin\n",
      "Age:25\n",
      "Male or Female:male\n",
      "bipin\n",
      "25\n",
      "male\n",
      "ups! forgot someone!no\n"
     ]
    }
   ],
   "source": [
    "#for loop inside while loop\n",
    "travelling = input(\"yes or no:\")\n",
    "while travelling == 'yes':\n",
    "    num= int(input(\"number of people travelling:\"))\n",
    "    for num in range(1,num+1):\n",
    "        name=input(\"Name:\")\n",
    "        age=input(\"Age:\")\n",
    "        sex=input(\"Male or Female:\")\n",
    "        print(name)\n",
    "        print(age)\n",
    "        print(sex)\n",
    "    travelling=input(\"ups! forgot someone!\")\n",
    "        \n"
   ]
  },
  {
   "cell_type": "code",
   "execution_count": 15,
   "metadata": {},
   "outputs": [
    {
     "name": "stdout",
     "output_type": "stream",
     "text": [
      "368\n",
      "40.888888888888886\n"
     ]
    }
   ],
   "source": [
    "marks= [12,14,34,23,45,54,56,76,54]\n",
    "\n",
    "total_mark= 0\n",
    "\n",
    "for mark in marks:\n",
    "    \n",
    "    total_mark= total_mark + mark\n",
    "    \n",
    "print(total_mark)\n",
    "number_of_student=len(marks)\n",
    "print(total_mark/number_of_student)"
   ]
  },
  {
   "cell_type": "code",
   "execution_count": 12,
   "metadata": {},
   "outputs": [
    {
     "name": "stdout",
     "output_type": "stream",
     "text": [
      "1\n",
      "2\n",
      "3\n",
      "4\n",
      "5\n"
     ]
    }
   ],
   "source": [
    "l=[1,2,3,4,5]\n",
    "for i in l:\n",
    "    print(i)"
   ]
  },
  {
   "cell_type": "code",
   "execution_count": 25,
   "metadata": {},
   "outputs": [
    {
     "name": "stdout",
     "output_type": "stream",
     "text": [
      "4.0\n",
      "0\n",
      "1\n",
      "2\n",
      "3\n",
      "4\n"
     ]
    }
   ],
   "source": [
    "len(l), print(20/len(l))\n",
    "for index in range(len(l)):\n",
    " print(index)"
   ]
  },
  {
   "cell_type": "code",
   "execution_count": null,
   "metadata": {},
   "outputs": [],
   "source": []
  },
  {
   "cell_type": "code",
   "execution_count": null,
   "metadata": {},
   "outputs": [],
   "source": []
  },
  {
   "cell_type": "code",
   "execution_count": null,
   "metadata": {},
   "outputs": [],
   "source": []
  }
 ],
 "metadata": {
  "kernelspec": {
   "display_name": "Python 3",
   "language": "python",
   "name": "python3"
  },
  "language_info": {
   "codemirror_mode": {
    "name": "ipython",
    "version": 3
   },
   "file_extension": ".py",
   "mimetype": "text/x-python",
   "name": "python",
   "nbconvert_exporter": "python",
   "pygments_lexer": "ipython3",
   "version": "3.8.3"
  }
 },
 "nbformat": 4,
 "nbformat_minor": 4
}
